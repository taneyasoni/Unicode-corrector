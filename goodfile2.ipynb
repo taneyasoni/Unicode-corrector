{
 "cells": [
  {
   "cell_type": "code",
   "execution_count": null,
   "id": "be3d85da",
   "metadata": {},
   "outputs": [],
   "source": [
    "import nltk\n",
    "from nltk.tokenize import word_tokenize\n",
    "with open(\"C:\\\\Users\\\\TANEYA\\\\Desktop\\\\CL\\\\LinguisticsAsignmnet\\\\output.txt\",encoding=\"utf-8\") as f:\n",
    "    [print(line) for line in f.readlines()]\n",
    "    \n",
    "s=open(\"C:\\\\Users\\\\TANEYA\\\\Desktop\\\\CL\\\\LinguisticsAsignmnet\\\\output.txt\",encoding=\"utf-8\").read()\n",
    "token=word_tokenize(s)\n",
    "print(token)\n",
    "text=\"जानें कुछ नयी रोचक चीजे भी कल्पना क्षत्रिय\"\n",
    "l=text.split()\n",
    "universal_list=[]\n"
   ]
  },
  {
   "cell_type": "markdown",
   "id": "83192dde",
   "metadata": {},
   "source": [
    "# Solution 1"
   ]
  },
  {
   "cell_type": "code",
   "execution_count": null,
   "id": "dade83f8",
   "metadata": {},
   "outputs": [],
   "source": [
    "def unicode(token):\n",
    "    str1=token\n",
    "    str=str1+\" \"\n",
    "    l=[]\n",
    "    vowel=['अ'  , 'आ' , 'इ' , 'ई' , 'उ'  ,'ऊ' ,'ए' , 'ऐ' , 'ओ' , 'औ' , 'अं' , 'अः' , 'ऋ',' ऀ',' ँ',' ं','ः', 'ऺ','ऻ',' ़' , 'ा','ि', 'ी','ु',' ू',' ृ',' ॄ',' ॅ',\n",
    "            ' ॆ',' े',' ै','ॉ','ॊ','ो','ौ',' ्','ॎ','ॏ']\n",
    "\n",
    "    swar=['अ'  , 'आ' , 'इ' , 'ई' , 'उ'  ,'ऊ' ,'ए' , 'ऐ' , 'ओ' , 'औ' , 'अं' , 'अः' , 'ऋ']\n",
    "    alpha_swar=[' ऀ',' ँ',' ं','ः', 'ऺ','ऻ',' ़' , 'ा','ि', 'ी','ु',' ू',' ृ',' ॄ',' ॅ',\n",
    "            ' ॆ',' े',' ै','ॉ','ॊ','ो','ौ','्','ॎ','ॏ']\n",
    "    vyanjana=['क', 'ख', 'ग', 'घ', 'ङ',\n",
    "         'च', 'छ', 'ज', 'झ', 'ञ',\n",
    "         'ट', 'ठ', 'ड', 'ढ', 'ण',\n",
    "         'त', 'थ', 'द', 'ध', 'न',\n",
    "         'प', 'फ', 'ब', 'भ', 'म', \n",
    "         'य', 'र', 'ल', 'व', 'श',\n",
    "         'ष', 'स', 'ह']\n",
    "    alpha_dict={\n",
    "     ' ं':'न्',\n",
    "     'ः': 'अः',\n",
    "     'ा':'आ',\n",
    "     'ि':'इ',\n",
    "     'ी':'ई',\n",
    "    'ु':'उ',\n",
    "    ' ू':'ऊ',\n",
    "    ' ृ':'ऋ',\n",
    "    ' े':'ए',\n",
    "    ' ै':'ऐ',\n",
    "    'ो':'ओ',\n",
    "    'ौ':'औ',\n",
    "    ' ': 'अ',\n",
    "    ' ': 'अ'}\n",
    "    word=str1\n",
    "    list1=[]\n",
    "    for i in word:\n",
    "        if(i not in vowel and i not in vyanjana):\n",
    "            continue\n",
    "        if( i in swar):\n",
    "            list1.append(i)\n",
    "        if(i in alpha_swar):\n",
    "            for x,y in alpha_dict.items():\n",
    "                if(x==i):\n",
    "                    if(len(list1)):\n",
    "                      list1.pop()\n",
    "                    list1.append(y)\n",
    "        if(i in vyanjana):\n",
    "           list1.append(i+chr(2381))\n",
    "           list1.append('अ')\n",
    "        if(i=='्'):\n",
    "           list1.pop()\n",
    "    print(token,end=\"=\")        \n",
    "    print(list1,end=\" \")\n",
    "    print(len(list1))\n",
    "    for i in list1:\n",
    "        universal_list.append(i)        \n",
    "    \n",
    "    "
   ]
  },
  {
   "cell_type": "code",
   "execution_count": null,
   "id": "28d19f5a",
   "metadata": {},
   "outputs": [],
   "source": [
    "\n",
    "for i in token:\n",
    "    unicode(i)"
   ]
  },
  {
   "cell_type": "code",
   "execution_count": null,
   "id": "d9178c59",
   "metadata": {},
   "outputs": [],
   "source": [
    "# print(universal_list)\n",
    "# universal_list.set()\n",
    "def unique(list1):\n",
    "  \n",
    "    # insert the list to the set\n",
    "    list_set = set(list1)\n",
    "    # convert the set to the list\n",
    "    unique_list = (list(list_set))\n",
    "    for x in unique_list:\n",
    "        print(x,end=\" \")\n",
    "unique(universal_list)\n"
   ]
  },
  {
   "cell_type": "markdown",
   "id": "92f23b6e",
   "metadata": {},
   "source": [
    "# Solution 2"
   ]
  },
  {
   "cell_type": "code",
   "execution_count": null,
   "id": "7157a048",
   "metadata": {},
   "outputs": [],
   "source": [
    "# Consider a word as a white-space separated sequence of characters. For each\n",
    "# word, find the characters and the syllables. Store a list of them and the words in descending\n",
    "# order of their frequencies.\n",
    "swar=['अ'  , 'आ' , 'इ' , 'ई' , 'उ'  ,'ऊ' ,' ए' , 'ऐ' , 'ओ' , 'औ' , 'अं' , 'अः' , 'ऋ']\n",
    "alpha_swar=[' ऀ',' ँ',' ं','ः', 'ऺ','ऻ',' ़' , 'ा','ि', 'ी',' ु',' ू',' ृ',' ॄ',' ॅ',\n",
    "            ' ॆ',' े',' ै','ॉ','ॊ','ो','ौ',' ्','ॎ','ॏ']\n",
    "vyanjan=['क', 'ख', 'ग', 'घ', 'ङ',\n",
    "         'च', 'छ', 'ज', 'झ', 'ञ',\n",
    "         'ट', 'ठ', 'ड', 'ढ', 'ण',\n",
    "         'त', 'थ', 'द', 'ध', 'न',\n",
    "         'प', 'फ', 'ब', 'भ', 'म', \n",
    "         'य', 'र', 'ल', 'व', 'श',\n",
    "         'ष', 'स', 'ह']\n",
    "#finding characters\n",
    "print(universal_list)\n",
    "\n",
    "#finding syllable    \n",
    "def syllable(word):\n",
    "    \n",
    "    l=word\n",
    "    for i in l:\n",
    "        if(l.isdigit()):\n",
    "            break\n",
    "    \n",
    "\n",
    "    str=l+\" \"\n",
    "    str1=\"\"\n",
    "    for j in range(len(str)): \n",
    "        if(str[j]=='ं'):\n",
    "             continue\n",
    "    \n",
    "        str1+=str[j]\n",
    "\n",
    "        \n",
    "        \n",
    "        if(str[j] in vyanjan and str[j+1] not in vyanjan):\n",
    "            continue\n",
    "        if(str[j] =='े' and str[j+1]=='ं'):\n",
    "            str1+='ं'\n",
    "        if(str[j] in alpha_swar ):\n",
    "              pass\n",
    "        if(str[j]=='्'):\n",
    "            continue\n",
    "              \n",
    "        print(str1,end=\" \")\n",
    "        str1=\"\"\n",
    "    print()\n",
    "    "
   ]
  },
  {
   "cell_type": "code",
   "execution_count": null,
   "id": "1c74e785",
   "metadata": {},
   "outputs": [],
   "source": [
    "\n",
    "for k in token:\n",
    "    print(k,end=\"= \")\n",
    "    syllable(k)"
   ]
  },
  {
   "cell_type": "code",
   "execution_count": null,
   "id": "a8c18f08",
   "metadata": {},
   "outputs": [],
   "source": [
    "from collections import Counter\n",
    "list1=token\n",
    "counts=Counter(list1)\n",
    "print(counts)"
   ]
  },
  {
   "cell_type": "code",
   "execution_count": null,
   "id": "87debf83",
   "metadata": {},
   "outputs": [],
   "source": [
    "from collections import Counter\n",
    "list1=universal_list\n",
    "counts=Counter(list1)\n",
    "print(counts)"
   ]
  },
  {
   "cell_type": "code",
   "execution_count": null,
   "id": "92c39460",
   "metadata": {},
   "outputs": [],
   "source": [
    "sortdictchar={}\n",
    "def freqchar(str):\n",
    "    \n",
    "    str2=[]\n",
    "    for i in str:            \n",
    "        if i not in str2:\n",
    "            str2.append(i)\n",
    "             \n",
    "    for i in range(0, len(str2)):\n",
    "        sortdictchar[str2[i]]=str.count(str2[i])\n",
    "        \n",
    "        print('Frequency of', str2[i], 'is :', str.count(str2[i]))\n",
    "    "
   ]
  },
  {
   "cell_type": "code",
   "execution_count": null,
   "id": "3abd26d5",
   "metadata": {},
   "outputs": [],
   "source": [
    "freqchar(universal_list)\n"
   ]
  },
  {
   "cell_type": "code",
   "execution_count": null,
   "id": "d554a5eb",
   "metadata": {},
   "outputs": [],
   "source": [
    "print(sortdictchar)"
   ]
  },
  {
   "cell_type": "code",
   "execution_count": null,
   "id": "dad7ad9d",
   "metadata": {},
   "outputs": [],
   "source": [
    "sortdict={}\n",
    "def freqtoken(str):\n",
    "    \n",
    "    str2=[]\n",
    "    # loop till string values present in list str\n",
    "    for i in str:            \n",
    " \n",
    "        # checking for the duplicacy\n",
    "        if i not in str2:\n",
    " \n",
    "            # insert value in str2\n",
    "            str2.append(i)\n",
    "             \n",
    "    for i in range(0, len(str2)):\n",
    " \n",
    "        # count the frequency of each word(present\n",
    "        # in str2) in str and print\n",
    "        sortdict[str2[i]]=str.count(str2[i])\n",
    "        \n",
    "        print('Frequency of', str2[i], 'is :', str.count(str2[i]))\n",
    "    "
   ]
  },
  {
   "cell_type": "code",
   "execution_count": null,
   "id": "f0b633f8",
   "metadata": {},
   "outputs": [],
   "source": [
    "freqtoken(token)\n"
   ]
  },
  {
   "cell_type": "code",
   "execution_count": null,
   "id": "367d364e",
   "metadata": {},
   "outputs": [],
   "source": [
    "print(sortdict)"
   ]
  },
  {
   "cell_type": "code",
   "execution_count": null,
   "id": "f5249a75",
   "metadata": {},
   "outputs": [],
   "source": [
    "x = sortdict \n",
    "{k: v for k, v in sorted(x.items(), key=lambda item: item[1])}\n"
   ]
  },
  {
   "cell_type": "code",
   "execution_count": null,
   "id": "2bec59cc",
   "metadata": {},
   "outputs": [],
   "source": [
    "y=sortdictchar\n",
    "{k: v for k, v in sorted(y.items(), key=lambda item: item[1])}\n"
   ]
  },
  {
   "cell_type": "code",
   "execution_count": null,
   "id": "d63e6365",
   "metadata": {},
   "outputs": [],
   "source": [
    "import collections\n",
    "l=list(nltk.bigrams(token))\n",
    "f=collections.Counter(l)\n",
    "print(f)\n"
   ]
  },
  {
   "cell_type": "markdown",
   "id": "b8630a6d",
   "metadata": {},
   "source": [
    "# solution 3"
   ]
  },
  {
   "cell_type": "code",
   "execution_count": null,
   "id": "95cbb3fc",
   "metadata": {},
   "outputs": [],
   "source": [
    "sortdict1={}\n",
    "for w in token:\n",
    "    words=' '.join(w)+' '\n",
    "    if words not in sortdict1:\n",
    "        sortdict1[words]=1\n",
    "    else:\n",
    "        sortdict1[words]+=1\n",
    "    "
   ]
  },
  {
   "cell_type": "code",
   "execution_count": null,
   "id": "f55c95be",
   "metadata": {},
   "outputs": [],
   "source": [
    "import re, collections\n",
    "\n",
    "def get_stats(vocab):\n",
    "    \"\"\"Compute frequencies of adjacent pairs of symbols.\"\"\"\n",
    "    pairs = collections.defaultdict(int)\n",
    "    for word, freq in vocab.items():\n",
    "        symbols = word.split()\n",
    "        for i in range(len(symbols)-1):\n",
    "            pairs[symbols[i],symbols[i+1]] += freq\n",
    "    return pairs\n",
    "\n",
    "def merge_vocab(pair, v_in):\n",
    "    v_out = {}\n",
    "    bigram = re.escape(' '.join(pair))\n",
    "    p = re.compile(r'(?<!\\S)' + bigram + r'(?!\\S)')\n",
    "    for word in v_in:\n",
    "        w_out = p.sub(''.join(pair), word)\n",
    "        v_out[w_out] = v_in[word]\n",
    "    return v_out"
   ]
  },
  {
   "cell_type": "code",
   "execution_count": null,
   "id": "6462c86e",
   "metadata": {},
   "outputs": [],
   "source": [
    "from IPython.display import display, Markdown, Latex\n",
    "\n",
    "\n",
    "bpe_codes = {}\n",
    "bpe_codes_reverse = {}\n",
    "bpe_token=[]\n",
    "num_merges = 1000\n",
    "\n",
    "for i in range(num_merges):\n",
    "    pairs = get_stats(sortdict1)\n",
    "    best = max(pairs, key=pairs.get)\n",
    "    bpe_token.append(''.join(best))\n",
    "\n",
    "    sortdict1= merge_vocab(best, sortdict1)\n",
    "    \n",
    "    bpe_codes[best] = i\n",
    "    bpe_codes_reverse[best[0] + best[1]] = best\n",
    "    \n",
    "    print(\"new merge: {}\".format(best))\n",
    "print(bpe_token)"
   ]
  },
  {
   "cell_type": "code",
   "execution_count": null,
   "id": "72125815",
   "metadata": {},
   "outputs": [],
   "source": [
    "for i in bpe_token:\n",
    "    unicode(i)"
   ]
  },
  {
   "cell_type": "code",
   "execution_count": null,
   "id": "c26ecfb0",
   "metadata": {},
   "outputs": [],
   "source": [
    "\n",
    "for k in bpe_token:\n",
    "    print(k,end=\"= \")\n",
    "    syllable(k)"
   ]
  },
  {
   "cell_type": "code",
   "execution_count": null,
   "id": "d6c2520e",
   "metadata": {},
   "outputs": [],
   "source": [
    "freqchar(universal_list)\n"
   ]
  },
  {
   "cell_type": "code",
   "execution_count": null,
   "id": "5673be4f",
   "metadata": {
    "scrolled": false
   },
   "outputs": [],
   "source": [
    "freqtoken(bpe_token)\n"
   ]
  },
  {
   "cell_type": "code",
   "execution_count": null,
   "id": "6068db01",
   "metadata": {},
   "outputs": [],
   "source": [
    "for i in bpe_token:\n",
    "    syllable(i)"
   ]
  },
  {
   "cell_type": "code",
   "execution_count": null,
   "id": "20b6a9b6",
   "metadata": {},
   "outputs": [],
   "source": [
    "from collections import Counter\n",
    "token_list=bpe_token\n",
    "counts=Counter(token_list)\n",
    "print(counts)"
   ]
  },
  {
   "cell_type": "code",
   "execution_count": null,
   "id": "58f6d616",
   "metadata": {},
   "outputs": [],
   "source": []
  },
  {
   "cell_type": "markdown",
   "id": "ebc33754",
   "metadata": {},
   "source": [
    "# Question 6\n"
   ]
  },
  {
   "cell_type": "code",
   "execution_count": null,
   "id": "a40c1c26",
   "metadata": {},
   "outputs": [],
   "source": [
    "import operator\n",
    "sorted_x = sorted(sortdict.items(), key=operator.itemgetter(1))\n",
    "sorted_y = sorted(sortdictchar.items(), key=operator.itemgetter(1))\n",
    "# sorted_z = sorted(sortdictbpe.items(), key=operator.itemgetter(1))\n",
    "print(type(sorted_x))\n",
    "print(sorted_x)\n",
    "\n",
    "\n",
    "def zipf(zfp):\n",
    "    zfp.reverse()\n",
    "    count=0\n",
    "    for i in zfp:\n",
    "        count+=1\n",
    "        print(i[0],end=\" \")\n",
    "        print(int(i[1]*count))"
   ]
  },
  {
   "cell_type": "code",
   "execution_count": null,
   "id": "8fa226e2",
   "metadata": {},
   "outputs": [],
   "source": [
    "print(\"zipf law for token\")\n",
    "zipf(sorted_x)\n",
    "\n"
   ]
  },
  {
   "cell_type": "code",
   "execution_count": null,
   "id": "d88af812",
   "metadata": {},
   "outputs": [],
   "source": [
    "# print(sorted_y)\n",
    "print(\"zipf law for charater\")\n",
    "zipf(sorted_y)"
   ]
  },
  {
   "cell_type": "code",
   "execution_count": null,
   "id": "cd91531c",
   "metadata": {},
   "outputs": [],
   "source": [
    "sortdictbpe={}\n",
    "def freqbpe(str):\n",
    "    \n",
    "    str2=[]\n",
    "    for i in str:            \n",
    "        if i not in str2:\n",
    "            str2.append(i)\n",
    "             \n",
    "    for i in range(0, len(str2)):\n",
    "        sortdictbpe[str2[i]]=str.count(str2[i])\n",
    "        \n",
    "        print('Frequency of', str2[i], 'is :', str.count(str2[i]))"
   ]
  },
  {
   "cell_type": "code",
   "execution_count": null,
   "id": "af81d573",
   "metadata": {},
   "outputs": [],
   "source": [
    "freqbpe(bpe_token)"
   ]
  },
  {
   "cell_type": "code",
   "execution_count": null,
   "id": "9cf8a09e",
   "metadata": {},
   "outputs": [],
   "source": [
    "z=sortdictbpe\n",
    "{k: v for k, v in sorted(z.items(), key=lambda item: item[1])}"
   ]
  },
  {
   "cell_type": "code",
   "execution_count": null,
   "id": "b187bf35",
   "metadata": {},
   "outputs": [],
   "source": [
    "print(\"zipf law for bpe\")\n",
    "zipf(sorted_z)"
   ]
  },
  {
   "cell_type": "code",
   "execution_count": null,
   "id": "05f10e39",
   "metadata": {},
   "outputs": [],
   "source": [
    "f=[]\n",
    "for i in range(len(sorted_x)):\n",
    "    f.append(sorted_x[i][1])\n",
    "f"
   ]
  },
  {
   "cell_type": "code",
   "execution_count": null,
   "id": "e08d7301",
   "metadata": {},
   "outputs": [],
   "source": [
    "t=[]\n",
    "for i in range(len(sorted_x)):\n",
    "    t.append(i+1)\n",
    "    "
   ]
  },
  {
   "cell_type": "code",
   "execution_count": null,
   "id": "64cc7479",
   "metadata": {},
   "outputs": [],
   "source": [
    "import matplotlib.pyplot as plt\n",
    "plt.plot(t,f)\n",
    "\n",
    "\n"
   ]
  },
  {
   "cell_type": "code",
   "execution_count": null,
   "id": "2676e969",
   "metadata": {},
   "outputs": [],
   "source": [
    "# plt.plot(,)\n",
    "# plt.show()"
   ]
  },
  {
   "cell_type": "markdown",
   "id": "447e8bc5",
   "metadata": {},
   "source": [
    "# Question 4"
   ]
  },
  {
   "cell_type": "code",
   "execution_count": null,
   "id": "8b4b012a",
   "metadata": {},
   "outputs": [],
   "source": []
  },
  {
   "cell_type": "code",
   "execution_count": null,
   "id": "a3ecf01d",
   "metadata": {},
   "outputs": [],
   "source": [
    "truePositive=[]\n",
    "for i in bpe_token:\n",
    "    if(i in token):\n",
    "        truePositive.append(i)\n",
    "len(truePositive)    "
   ]
  },
  {
   "cell_type": "code",
   "execution_count": null,
   "id": "6b7f8a49",
   "metadata": {},
   "outputs": [],
   "source": [
    "# Precision = TruePositives / (TruePositives + FalsePositives)\n",
    "Precision = len(truePositive) / len(bpe_token)\n",
    "Precision\n",
    "\n"
   ]
  },
  {
   "cell_type": "code",
   "execution_count": null,
   "id": "5e5627b3",
   "metadata": {},
   "outputs": [],
   "source": [
    "# Recall = TruePositives / (TruePositives + FalseNegatives)\n",
    "Recall = len(truePositive) / len(token)\n",
    "Recall\n",
    "\n"
   ]
  },
  {
   "cell_type": "code",
   "execution_count": null,
   "id": "00bfcdb5",
   "metadata": {},
   "outputs": [],
   "source": [
    "F_Measure = (2 * Precision * Recall) / (Precision + Recall)\n",
    "F_Measure"
   ]
  },
  {
   "cell_type": "markdown",
   "id": "517eec2f",
   "metadata": {},
   "source": [
    "# Question5"
   ]
  },
  {
   "cell_type": "code",
   "execution_count": null,
   "id": "d47abfe6",
   "metadata": {},
   "outputs": [],
   "source": [
    "import conllu\n",
    "from io import open\n",
    "from conllu import parse_tree_incr\n",
    "Q5list=[]\n",
    "\n",
    "Q5data = open(\"hi_hdtb-ud-train.conllu\", \"r\", encoding=\"utf-8\")\n",
    "for tokenlist in parse_tree_incr(Q5data):\n",
    "    Q5list.append(tokenlist)\n",
    "    \n",
    "Q5map={}\n",
    "for i in Q5list:\n",
    "    Q5map[i.token['form']]=i.token[\"lemma\"]\n",
    "print(Q5map)    "
   ]
  },
  {
   "cell_type": "markdown",
   "id": "3511a550",
   "metadata": {},
   "source": [
    "# Question 7"
   ]
  },
  {
   "cell_type": "code",
   "execution_count": null,
   "id": "7e62429b",
   "metadata": {},
   "outputs": [],
   "source": [
    "Q7=[]\n",
    "for i, j in Q5map.items():\n",
    "    flag=0\n",
    "    \n",
    "    if len(i)<=len(j):\n",
    "        continue\n",
    "    \n",
    "    else:    \n",
    "        empty=\"\"\n",
    "        for k in range(len(j)):\n",
    "            flag+=1\n",
    "            if (i[k]==j[k]):\n",
    "#                 print(\"dbd\")\n",
    "                continue\n",
    "        \n",
    "        for l in range(flag,len(i)):\n",
    "#             print(\"v\")\n",
    "            empty+=i[l]\n",
    "        Q7.append(empty)  \n",
    "Q7    \n",
    "                    "
   ]
  },
  {
   "cell_type": "code",
   "execution_count": null,
   "id": "234e47bc",
   "metadata": {},
   "outputs": [],
   "source": []
  },
  {
   "cell_type": "code",
   "execution_count": null,
   "id": "e9754bcc",
   "metadata": {},
   "outputs": [],
   "source": []
  },
  {
   "cell_type": "code",
   "execution_count": null,
   "id": "2887dd29",
   "metadata": {},
   "outputs": [],
   "source": []
  },
  {
   "cell_type": "code",
   "execution_count": null,
   "id": "eec0f34a",
   "metadata": {},
   "outputs": [],
   "source": [
    "\n",
    "        "
   ]
  },
  {
   "cell_type": "code",
   "execution_count": null,
   "id": "7716e580",
   "metadata": {},
   "outputs": [],
   "source": []
  }
 ],
 "metadata": {
  "kernelspec": {
   "display_name": "Python 3 (ipykernel)",
   "language": "python",
   "name": "python3"
  },
  "language_info": {
   "codemirror_mode": {
    "name": "ipython",
    "version": 3
   },
   "file_extension": ".py",
   "mimetype": "text/x-python",
   "name": "python",
   "nbconvert_exporter": "python",
   "pygments_lexer": "ipython3",
   "version": "3.10.6"
  }
 },
 "nbformat": 4,
 "nbformat_minor": 5
}
